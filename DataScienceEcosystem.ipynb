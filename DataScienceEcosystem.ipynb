{
 "cells": [
  {
   "cell_type": "markdown",
   "id": "7cc3454f-6b42-4fd1-ae9f-b97fdf7e523a",
   "metadata": {},
   "source": [
    "# 2 Data Science Tools and Ecosystem"
   ]
  },
  {
   "cell_type": "markdown",
   "id": "0844294e-dbd1-4a18-8218-bb2955e7592c",
   "metadata": {},
   "source": [
    "## 3 Data Science Introduction\n",
    "#### Data Science is a combination of multiple disciplines that uses statistics, data analysis, and machine learning to analyze data and to extract knowledge and insights from it.\n",
    "Data Science is about data gathering, analysis and decision-making and it is about finding patterns in data, through analysis, and make future predictions.\n",
    "By using Data Science, companies are able to find\n",
    "- Better decisions (should we choose A or B)\n",
    "- Predictive analysis (what will happen next?)\n",
    "- Pattern discoveries (find pattern, or maybe hidden information in the data)"
   ]
  },
  {
   "attachments": {},
   "cell_type": "markdown",
   "id": "1ea63f8f-1913-4988-b831-14bc9cf2b601",
   "metadata": {},
   "source": [
    "## 4 Data Science Languages\n",
    "### List of Top Programming Languages for Data Science\n",
    "- Python\n",
    "- \n",
    "SQL (Structured Query Language\n",
    "- R\n",
    "- Julia\n",
    "- Scala\n",
    "- JavaScript\n",
    "- Statistical Analytical System (SAS),\r\n",
    "Java"
   ]
  },
  {
   "cell_type": "markdown",
   "id": "46b75f3d-df65-4411-addd-1cde2186dd56",
   "metadata": {},
   "source": [
    "## 5 Data Science Libraries\n",
    "### Python libraries for Data Processing and Modeling\n",
    "- Pandas(for data analysis and data handling)\n",
    "- NumPy( for numerical computing on data that can be in the form of large arrays and multi-dimensional matrices)\n",
    "- SciPy(for scientific computing and technical computing of data)\n",
    "- Scikit-learn(for Machine Learning)\n",
    "- TensorFlow(for Artificial Intelligence)\n",
    "- Keras(for neural network)\n",
    "### Python libraries for Visualisation\n",
    "- Matplotlib\n",
    "- Seaborn\n",
    "- Plotly\n",
    "- GGplot"
   ]
  },
  {
   "cell_type": "markdown",
   "id": "080f6e59-4fc4-43c1-be55-9f49ebad9b50",
   "metadata": {},
   "source": [
    "## 6 Table of Data Science tools\n",
    "| Data Science Tools|\n",
    "---------------------\n",
    "| Apache Hadoop |\n",
    "| Apache Spark |\n",
    "| Jupyter |\n",
    "| RStudio |\n",
    "| SAS |\n",
    "|BigML |"
   ]
  },
  {
   "cell_type": "markdown",
   "id": "0f6dce94-6356-4b1d-8be0-1b04b364cf02",
   "metadata": {},
   "source": [
    "## 7 introducing arithmetic expression\n",
    "### Below are a few examples of evaluating arithmetic expressions in Python"
   ]
  },
  {
   "cell_type": "code",
   "execution_count": 48,
   "id": "a55f0443-d362-4e85-86d7-5b3f1388e1d4",
   "metadata": {},
   "outputs": [
    {
     "data": {
      "text/plain": [
       "13"
      ]
     },
     "execution_count": 48,
     "metadata": {},
     "output_type": "execute_result"
    }
   ],
   "source": [
    "# Addition of two numbers\n",
    "5+8"
   ]
  },
  {
   "cell_type": "code",
   "execution_count": 50,
   "id": "5047b0a1-a69c-40aa-aa8f-fd04d5dd4f10",
   "metadata": {},
   "outputs": [
    {
     "data": {
      "text/plain": [
       "64"
      ]
     },
     "execution_count": 50,
     "metadata": {},
     "output_type": "execute_result"
    }
   ],
   "source": [
    "# Multiplication of two numbers\n",
    "8 * 8"
   ]
  },
  {
   "cell_type": "code",
   "execution_count": 52,
   "id": "aedfcaf3-90d0-4f62-8d12-d2e1b1b0b72e",
   "metadata": {},
   "outputs": [
    {
     "data": {
      "text/plain": [
       "48"
      ]
     },
     "execution_count": 52,
     "metadata": {},
     "output_type": "execute_result"
    }
   ],
   "source": [
    "# Substraction\n",
    "98 - 50"
   ]
  },
  {
   "cell_type": "markdown",
   "id": "c35bcdb1-6b6b-4a36-a92a-7dea7eba381c",
   "metadata": {},
   "source": [
    "## 8 code cell to multiply and add numbers"
   ]
  },
  {
   "cell_type": "code",
   "execution_count": 71,
   "id": "8ac0b9f7-8ceb-424a-bbb9-042c0523fffe",
   "metadata": {},
   "outputs": [
    {
     "data": {
      "text/plain": [
       "17"
      ]
     },
     "execution_count": 71,
     "metadata": {},
     "output_type": "execute_result"
    }
   ],
   "source": [
    "# This a simple arithmetic expression to mutiply then add integers\n",
    "(3*4)+5"
   ]
  },
  {
   "cell_type": "markdown",
   "id": "cffea8ac-2d6a-4471-b21c-87f39431eb48",
   "metadata": {},
   "source": [
    "## 9 code cell to convert minutes to hours"
   ]
  },
  {
   "cell_type": "code",
   "execution_count": 58,
   "id": "9624d485-0f0f-4427-a2e6-8ccb43039a71",
   "metadata": {},
   "outputs": [
    {
     "name": "stdout",
     "output_type": "stream",
     "text": [
      "0 days, 3.3333333333333335 hours, 0 mins. \n"
     ]
    }
   ],
   "source": [
    "# This will convert 200 minutes to hours by diving by 60\n",
    "days = 0\n",
    "hours = 0\n",
    "mins = 0\n",
    "\n",
    "time = 200\n",
    "#days = time / 1440\n",
    "leftover_minutes = time % 1440\n",
    "hours = leftover_minutes / 60\n",
    "#mins = time - (days*1440) - (hours*60)\n",
    "print(str(days) + \" days, \" + str(hours) + \" hours, \" + str(mins) +  \" mins. \")\n"
   ]
  },
  {
   "cell_type": "markdown",
   "id": "ceef34bd-b805-446f-bc22-3793812b4fac",
   "metadata": {},
   "source": [
    "## 10 Objectives:\n",
    "The objective of creating this notebook is to cover \n",
    "- Introduction part of Data Science.\n",
    "- Data Science languages.\n",
    "- Data Science libraries.\n",
    "- Use of code cell and markdown cell."
   ]
  },
  {
   "cell_type": "markdown",
   "id": "01c1c0c0-83a9-430b-a998-634632a7a19c",
   "metadata": {},
   "source": [
    "## 11 Author\n",
    "Anuradha Sankhla"
   ]
  },
  {
   "cell_type": "code",
   "execution_count": null,
   "id": "e2efc0d4-618e-4a07-9849-fd15978d0c82",
   "metadata": {},
   "outputs": [],
   "source": []
  }
 ],
 "metadata": {
  "kernelspec": {
   "display_name": "Python 3 (ipykernel)",
   "language": "python",
   "name": "python3"
  },
  "language_info": {
   "codemirror_mode": {
    "name": "ipython",
    "version": 3
   },
   "file_extension": ".py",
   "mimetype": "text/x-python",
   "name": "python",
   "nbconvert_exporter": "python",
   "pygments_lexer": "ipython3",
   "version": "3.12.4"
  }
 },
 "nbformat": 4,
 "nbformat_minor": 5
}
